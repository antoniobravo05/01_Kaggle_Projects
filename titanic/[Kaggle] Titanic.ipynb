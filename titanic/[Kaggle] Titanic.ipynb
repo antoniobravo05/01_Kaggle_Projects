{
 "cells": [
  {
   "cell_type": "code",
   "execution_count": 18,
   "metadata": {},
   "outputs": [],
   "source": [
    "import numpy as np\n",
    "import pandas as pd \n",
    "import seaborn as sb\n",
    "import matplotlib.pyplot as plt\n",
    "import sklearn as sk"
   ]
  },
  {
   "cell_type": "code",
   "execution_count": 50,
   "metadata": {},
   "outputs": [],
   "source": [
    "#imports\n",
    "tit_train = pd.read_csv ('train.csv')\n",
    "tit_test = pd.read_csv ('test.csv')"
   ]
  },
  {
   "cell_type": "markdown",
   "metadata": {},
   "source": [
    "## EDA"
   ]
  },
  {
   "cell_type": "code",
   "execution_count": 51,
   "metadata": {},
   "outputs": [
    {
     "name": "stdout",
     "output_type": "stream",
     "text": [
      "train:  (891, 12)\n",
      "test:  (418, 11)\n"
     ]
    },
    {
     "data": {
      "text/html": [
       "<div>\n",
       "<style scoped>\n",
       "    .dataframe tbody tr th:only-of-type {\n",
       "        vertical-align: middle;\n",
       "    }\n",
       "\n",
       "    .dataframe tbody tr th {\n",
       "        vertical-align: top;\n",
       "    }\n",
       "\n",
       "    .dataframe thead th {\n",
       "        text-align: right;\n",
       "    }\n",
       "</style>\n",
       "<table border=\"1\" class=\"dataframe\">\n",
       "  <thead>\n",
       "    <tr style=\"text-align: right;\">\n",
       "      <th></th>\n",
       "      <th>PassengerId</th>\n",
       "      <th>Survived</th>\n",
       "      <th>Pclass</th>\n",
       "      <th>Name</th>\n",
       "      <th>Sex</th>\n",
       "      <th>Age</th>\n",
       "      <th>SibSp</th>\n",
       "      <th>Parch</th>\n",
       "      <th>Ticket</th>\n",
       "      <th>Fare</th>\n",
       "      <th>Cabin</th>\n",
       "      <th>Embarked</th>\n",
       "    </tr>\n",
       "  </thead>\n",
       "  <tbody>\n",
       "    <tr>\n",
       "      <th>0</th>\n",
       "      <td>1</td>\n",
       "      <td>0</td>\n",
       "      <td>3</td>\n",
       "      <td>Braund, Mr. Owen Harris</td>\n",
       "      <td>male</td>\n",
       "      <td>22.0</td>\n",
       "      <td>1</td>\n",
       "      <td>0</td>\n",
       "      <td>A/5 21171</td>\n",
       "      <td>7.2500</td>\n",
       "      <td>NaN</td>\n",
       "      <td>S</td>\n",
       "    </tr>\n",
       "    <tr>\n",
       "      <th>1</th>\n",
       "      <td>2</td>\n",
       "      <td>1</td>\n",
       "      <td>1</td>\n",
       "      <td>Cumings, Mrs. John Bradley (Florence Briggs Th...</td>\n",
       "      <td>female</td>\n",
       "      <td>38.0</td>\n",
       "      <td>1</td>\n",
       "      <td>0</td>\n",
       "      <td>PC 17599</td>\n",
       "      <td>71.2833</td>\n",
       "      <td>C85</td>\n",
       "      <td>C</td>\n",
       "    </tr>\n",
       "    <tr>\n",
       "      <th>2</th>\n",
       "      <td>3</td>\n",
       "      <td>1</td>\n",
       "      <td>3</td>\n",
       "      <td>Heikkinen, Miss. Laina</td>\n",
       "      <td>female</td>\n",
       "      <td>26.0</td>\n",
       "      <td>0</td>\n",
       "      <td>0</td>\n",
       "      <td>STON/O2. 3101282</td>\n",
       "      <td>7.9250</td>\n",
       "      <td>NaN</td>\n",
       "      <td>S</td>\n",
       "    </tr>\n",
       "    <tr>\n",
       "      <th>3</th>\n",
       "      <td>4</td>\n",
       "      <td>1</td>\n",
       "      <td>1</td>\n",
       "      <td>Futrelle, Mrs. Jacques Heath (Lily May Peel)</td>\n",
       "      <td>female</td>\n",
       "      <td>35.0</td>\n",
       "      <td>1</td>\n",
       "      <td>0</td>\n",
       "      <td>113803</td>\n",
       "      <td>53.1000</td>\n",
       "      <td>C123</td>\n",
       "      <td>S</td>\n",
       "    </tr>\n",
       "    <tr>\n",
       "      <th>4</th>\n",
       "      <td>5</td>\n",
       "      <td>0</td>\n",
       "      <td>3</td>\n",
       "      <td>Allen, Mr. William Henry</td>\n",
       "      <td>male</td>\n",
       "      <td>35.0</td>\n",
       "      <td>0</td>\n",
       "      <td>0</td>\n",
       "      <td>373450</td>\n",
       "      <td>8.0500</td>\n",
       "      <td>NaN</td>\n",
       "      <td>S</td>\n",
       "    </tr>\n",
       "    <tr>\n",
       "      <th>5</th>\n",
       "      <td>6</td>\n",
       "      <td>0</td>\n",
       "      <td>3</td>\n",
       "      <td>Moran, Mr. James</td>\n",
       "      <td>male</td>\n",
       "      <td>NaN</td>\n",
       "      <td>0</td>\n",
       "      <td>0</td>\n",
       "      <td>330877</td>\n",
       "      <td>8.4583</td>\n",
       "      <td>NaN</td>\n",
       "      <td>Q</td>\n",
       "    </tr>\n",
       "    <tr>\n",
       "      <th>6</th>\n",
       "      <td>7</td>\n",
       "      <td>0</td>\n",
       "      <td>1</td>\n",
       "      <td>McCarthy, Mr. Timothy J</td>\n",
       "      <td>male</td>\n",
       "      <td>54.0</td>\n",
       "      <td>0</td>\n",
       "      <td>0</td>\n",
       "      <td>17463</td>\n",
       "      <td>51.8625</td>\n",
       "      <td>E46</td>\n",
       "      <td>S</td>\n",
       "    </tr>\n",
       "    <tr>\n",
       "      <th>7</th>\n",
       "      <td>8</td>\n",
       "      <td>0</td>\n",
       "      <td>3</td>\n",
       "      <td>Palsson, Master. Gosta Leonard</td>\n",
       "      <td>male</td>\n",
       "      <td>2.0</td>\n",
       "      <td>3</td>\n",
       "      <td>1</td>\n",
       "      <td>349909</td>\n",
       "      <td>21.0750</td>\n",
       "      <td>NaN</td>\n",
       "      <td>S</td>\n",
       "    </tr>\n",
       "    <tr>\n",
       "      <th>8</th>\n",
       "      <td>9</td>\n",
       "      <td>1</td>\n",
       "      <td>3</td>\n",
       "      <td>Johnson, Mrs. Oscar W (Elisabeth Vilhelmina Berg)</td>\n",
       "      <td>female</td>\n",
       "      <td>27.0</td>\n",
       "      <td>0</td>\n",
       "      <td>2</td>\n",
       "      <td>347742</td>\n",
       "      <td>11.1333</td>\n",
       "      <td>NaN</td>\n",
       "      <td>S</td>\n",
       "    </tr>\n",
       "    <tr>\n",
       "      <th>9</th>\n",
       "      <td>10</td>\n",
       "      <td>1</td>\n",
       "      <td>2</td>\n",
       "      <td>Nasser, Mrs. Nicholas (Adele Achem)</td>\n",
       "      <td>female</td>\n",
       "      <td>14.0</td>\n",
       "      <td>1</td>\n",
       "      <td>0</td>\n",
       "      <td>237736</td>\n",
       "      <td>30.0708</td>\n",
       "      <td>NaN</td>\n",
       "      <td>C</td>\n",
       "    </tr>\n",
       "  </tbody>\n",
       "</table>\n",
       "</div>"
      ],
      "text/plain": [
       "   PassengerId  Survived  Pclass  \\\n",
       "0            1         0       3   \n",
       "1            2         1       1   \n",
       "2            3         1       3   \n",
       "3            4         1       1   \n",
       "4            5         0       3   \n",
       "5            6         0       3   \n",
       "6            7         0       1   \n",
       "7            8         0       3   \n",
       "8            9         1       3   \n",
       "9           10         1       2   \n",
       "\n",
       "                                                Name     Sex   Age  SibSp  \\\n",
       "0                            Braund, Mr. Owen Harris    male  22.0      1   \n",
       "1  Cumings, Mrs. John Bradley (Florence Briggs Th...  female  38.0      1   \n",
       "2                             Heikkinen, Miss. Laina  female  26.0      0   \n",
       "3       Futrelle, Mrs. Jacques Heath (Lily May Peel)  female  35.0      1   \n",
       "4                           Allen, Mr. William Henry    male  35.0      0   \n",
       "5                                   Moran, Mr. James    male   NaN      0   \n",
       "6                            McCarthy, Mr. Timothy J    male  54.0      0   \n",
       "7                     Palsson, Master. Gosta Leonard    male   2.0      3   \n",
       "8  Johnson, Mrs. Oscar W (Elisabeth Vilhelmina Berg)  female  27.0      0   \n",
       "9                Nasser, Mrs. Nicholas (Adele Achem)  female  14.0      1   \n",
       "\n",
       "   Parch            Ticket     Fare Cabin Embarked  \n",
       "0      0         A/5 21171   7.2500   NaN        S  \n",
       "1      0          PC 17599  71.2833   C85        C  \n",
       "2      0  STON/O2. 3101282   7.9250   NaN        S  \n",
       "3      0            113803  53.1000  C123        S  \n",
       "4      0            373450   8.0500   NaN        S  \n",
       "5      0            330877   8.4583   NaN        Q  \n",
       "6      0             17463  51.8625   E46        S  \n",
       "7      1            349909  21.0750   NaN        S  \n",
       "8      2            347742  11.1333   NaN        S  \n",
       "9      0            237736  30.0708   NaN        C  "
      ]
     },
     "execution_count": 51,
     "metadata": {},
     "output_type": "execute_result"
    }
   ],
   "source": [
    "print('train: ', tit_train.shape)\n",
    "print('test: ', tit_test.shape)\n",
    "\n",
    "tit_train.head(10)\n",
    "\n",
    "#Feature to predict: Survived [0,1]"
   ]
  },
  {
   "cell_type": "code",
   "execution_count": 52,
   "metadata": {},
   "outputs": [
    {
     "name": "stdout",
     "output_type": "stream",
     "text": [
      "<class 'pandas.core.frame.DataFrame'>\n",
      "RangeIndex: 891 entries, 0 to 890\n",
      "Data columns (total 12 columns):\n",
      "PassengerId    891 non-null int64\n",
      "Survived       891 non-null int64\n",
      "Pclass         891 non-null int64\n",
      "Name           891 non-null object\n",
      "Sex            891 non-null object\n",
      "Age            714 non-null float64\n",
      "SibSp          891 non-null int64\n",
      "Parch          891 non-null int64\n",
      "Ticket         891 non-null object\n",
      "Fare           891 non-null float64\n",
      "Cabin          204 non-null object\n",
      "Embarked       889 non-null object\n",
      "dtypes: float64(2), int64(5), object(5)\n",
      "memory usage: 83.6+ KB\n"
     ]
    }
   ],
   "source": [
    "tit_train.info()"
   ]
  },
  {
   "cell_type": "markdown",
   "metadata": {},
   "source": [
    "1. Missing values in Age, Cabin and Embarked. Fill Missing Values"
   ]
  },
  {
   "cell_type": "code",
   "execution_count": 54,
   "metadata": {
    "scrolled": true
   },
   "outputs": [
    {
     "data": {
      "text/plain": [
       "PassengerId      0\n",
       "Survived         0\n",
       "Pclass           0\n",
       "Name             0\n",
       "Sex              0\n",
       "Age            177\n",
       "SibSp            0\n",
       "Parch            0\n",
       "Ticket           0\n",
       "Fare             0\n",
       "Cabin          687\n",
       "Embarked         2\n",
       "dtype: int64"
      ]
     },
     "execution_count": 54,
     "metadata": {},
     "output_type": "execute_result"
    }
   ],
   "source": [
    "tit_train.isnull().sum()"
   ]
  },
  {
   "cell_type": "code",
   "execution_count": 55,
   "metadata": {},
   "outputs": [],
   "source": [
    "tit_train=tit_train.drop(columns=['Cabin'])\n",
    "tit_test=tit_test.drop(columns=['Cabin'])"
   ]
  },
  {
   "cell_type": "code",
   "execution_count": 59,
   "metadata": {},
   "outputs": [],
   "source": [
    "tit_train.fillna(tit_train.mean(),inplace=True)\n",
    "tit_test.fillna(tit_test.mean(),inplace=True)"
   ]
  },
  {
   "cell_type": "markdown",
   "metadata": {},
   "source": [
    "2. Cathegorical features will be mapped to concret values (Sex, embarked)"
   ]
  },
  {
   "cell_type": "code",
   "execution_count": null,
   "metadata": {},
   "outputs": [],
   "source": [
    "from sklearn.preprocessing import OrdinalEncoder\n",
    "\n",
    "ord_enc = OrdinalEncoder()\n",
    "tit_train[\"make_code\"] = ord_enc.fit_transform(obj_df[[\"make\"]])\n",
    "obj_df[[\"make\", \"make_code\"]].head(11)"
   ]
  },
  {
   "cell_type": "code",
   "execution_count": null,
   "metadata": {},
   "outputs": [],
   "source": []
  },
  {
   "cell_type": "code",
   "execution_count": 30,
   "metadata": {},
   "outputs": [
    {
     "data": {
      "text/plain": [
       "0    549\n",
       "1    342\n",
       "Name: Survived, dtype: int64"
      ]
     },
     "execution_count": 30,
     "metadata": {},
     "output_type": "execute_result"
    }
   ],
   "source": [
    "tit_train['Survived'].value_counts()"
   ]
  },
  {
   "cell_type": "markdown",
   "metadata": {},
   "source": [
    "Imbalanced tarjet classes"
   ]
  },
  {
   "cell_type": "markdown",
   "metadata": {},
   "source": [
    "3. See correlation between features"
   ]
  },
  {
   "cell_type": "code",
   "execution_count": 23,
   "metadata": {},
   "outputs": [
    {
     "data": {
      "text/html": [
       "<div>\n",
       "<style scoped>\n",
       "    .dataframe tbody tr th:only-of-type {\n",
       "        vertical-align: middle;\n",
       "    }\n",
       "\n",
       "    .dataframe tbody tr th {\n",
       "        vertical-align: top;\n",
       "    }\n",
       "\n",
       "    .dataframe thead th {\n",
       "        text-align: right;\n",
       "    }\n",
       "</style>\n",
       "<table border=\"1\" class=\"dataframe\">\n",
       "  <thead>\n",
       "    <tr style=\"text-align: right;\">\n",
       "      <th></th>\n",
       "      <th>PassengerId</th>\n",
       "      <th>Survived</th>\n",
       "      <th>Pclass</th>\n",
       "      <th>Age</th>\n",
       "      <th>SibSp</th>\n",
       "      <th>Parch</th>\n",
       "      <th>Fare</th>\n",
       "    </tr>\n",
       "  </thead>\n",
       "  <tbody>\n",
       "    <tr>\n",
       "      <th>count</th>\n",
       "      <td>891.000000</td>\n",
       "      <td>891.000000</td>\n",
       "      <td>891.000000</td>\n",
       "      <td>714.000000</td>\n",
       "      <td>891.000000</td>\n",
       "      <td>891.000000</td>\n",
       "      <td>891.000000</td>\n",
       "    </tr>\n",
       "    <tr>\n",
       "      <th>mean</th>\n",
       "      <td>446.000000</td>\n",
       "      <td>0.383838</td>\n",
       "      <td>2.308642</td>\n",
       "      <td>29.699118</td>\n",
       "      <td>0.523008</td>\n",
       "      <td>0.381594</td>\n",
       "      <td>32.204208</td>\n",
       "    </tr>\n",
       "    <tr>\n",
       "      <th>std</th>\n",
       "      <td>257.353842</td>\n",
       "      <td>0.486592</td>\n",
       "      <td>0.836071</td>\n",
       "      <td>14.526497</td>\n",
       "      <td>1.102743</td>\n",
       "      <td>0.806057</td>\n",
       "      <td>49.693429</td>\n",
       "    </tr>\n",
       "    <tr>\n",
       "      <th>min</th>\n",
       "      <td>1.000000</td>\n",
       "      <td>0.000000</td>\n",
       "      <td>1.000000</td>\n",
       "      <td>0.420000</td>\n",
       "      <td>0.000000</td>\n",
       "      <td>0.000000</td>\n",
       "      <td>0.000000</td>\n",
       "    </tr>\n",
       "    <tr>\n",
       "      <th>25%</th>\n",
       "      <td>223.500000</td>\n",
       "      <td>0.000000</td>\n",
       "      <td>2.000000</td>\n",
       "      <td>20.125000</td>\n",
       "      <td>0.000000</td>\n",
       "      <td>0.000000</td>\n",
       "      <td>7.910400</td>\n",
       "    </tr>\n",
       "    <tr>\n",
       "      <th>50%</th>\n",
       "      <td>446.000000</td>\n",
       "      <td>0.000000</td>\n",
       "      <td>3.000000</td>\n",
       "      <td>28.000000</td>\n",
       "      <td>0.000000</td>\n",
       "      <td>0.000000</td>\n",
       "      <td>14.454200</td>\n",
       "    </tr>\n",
       "    <tr>\n",
       "      <th>75%</th>\n",
       "      <td>668.500000</td>\n",
       "      <td>1.000000</td>\n",
       "      <td>3.000000</td>\n",
       "      <td>38.000000</td>\n",
       "      <td>1.000000</td>\n",
       "      <td>0.000000</td>\n",
       "      <td>31.000000</td>\n",
       "    </tr>\n",
       "    <tr>\n",
       "      <th>max</th>\n",
       "      <td>891.000000</td>\n",
       "      <td>1.000000</td>\n",
       "      <td>3.000000</td>\n",
       "      <td>80.000000</td>\n",
       "      <td>8.000000</td>\n",
       "      <td>6.000000</td>\n",
       "      <td>512.329200</td>\n",
       "    </tr>\n",
       "  </tbody>\n",
       "</table>\n",
       "</div>"
      ],
      "text/plain": [
       "       PassengerId    Survived      Pclass         Age       SibSp  \\\n",
       "count   891.000000  891.000000  891.000000  714.000000  891.000000   \n",
       "mean    446.000000    0.383838    2.308642   29.699118    0.523008   \n",
       "std     257.353842    0.486592    0.836071   14.526497    1.102743   \n",
       "min       1.000000    0.000000    1.000000    0.420000    0.000000   \n",
       "25%     223.500000    0.000000    2.000000   20.125000    0.000000   \n",
       "50%     446.000000    0.000000    3.000000   28.000000    0.000000   \n",
       "75%     668.500000    1.000000    3.000000   38.000000    1.000000   \n",
       "max     891.000000    1.000000    3.000000   80.000000    8.000000   \n",
       "\n",
       "            Parch        Fare  \n",
       "count  891.000000  891.000000  \n",
       "mean     0.381594   32.204208  \n",
       "std      0.806057   49.693429  \n",
       "min      0.000000    0.000000  \n",
       "25%      0.000000    7.910400  \n",
       "50%      0.000000   14.454200  \n",
       "75%      0.000000   31.000000  \n",
       "max      6.000000  512.329200  "
      ]
     },
     "execution_count": 23,
     "metadata": {},
     "output_type": "execute_result"
    }
   ],
   "source": [
    "tit_train.describe()"
   ]
  },
  {
   "cell_type": "code",
   "execution_count": 24,
   "metadata": {},
   "outputs": [
    {
     "data": {
      "text/plain": [
       "<matplotlib.axes._subplots.AxesSubplot at 0x7f7dd46c18d0>"
      ]
     },
     "execution_count": 24,
     "metadata": {},
     "output_type": "execute_result"
    },
    {
     "data": {
      "image/png": "[encoded data removed]",
      "text/plain": [
       "<Figure size 432x288 with 1 Axes>"
      ]
     },
     "metadata": {
      "needs_background": "light"
     },
     "output_type": "display_data"
    }
   ],
   "source": [
    "tit_train.plot.box()"
   ]
  },
  {
   "cell_type": "code",
   "execution_count": 27,
   "metadata": {},
   "outputs": [
    {
     "data": {
      "text/plain": [
       "<matplotlib.axes._subplots.AxesSubplot at 0x7f7dd51d47b8>"
      ]
     },
     "execution_count": 27,
     "metadata": {},
     "output_type": "execute_result"
    },
    {
     "data": {
      "image/png": "[encoded data removed]",
      "text/plain": [
       "<Figure size 432x288 with 1 Axes>"
      ]
     },
     "metadata": {
      "needs_background": "light"
     },
     "output_type": "display_data"
    }
   ],
   "source": [
    "tit_train['Age'].plot.hist(bins = 20)"
   ]
  },
  {
   "cell_type": "code",
   "execution_count": 29,
   "metadata": {},
   "outputs": [
    {
     "data": {
      "text/plain": [
       "<matplotlib.axes._subplots.AxesSubplot at 0x7f7dd553c7f0>"
      ]
     },
     "execution_count": 29,
     "metadata": {},
     "output_type": "execute_result"
    },
    {
     "data": {
      "image/png": "[encoded data removed]",
      "text/plain": [
       "<Figure size 432x288 with 1 Axes>"
      ]
     },
     "metadata": {
      "needs_background": "light"
     },
     "output_type": "display_data"
    }
   ],
   "source": [
    "tit_train['Fare'].plot.hist(bins = 20)"
   ]
  },
  {
   "cell_type": "code",
   "execution_count": 36,
   "metadata": {},
   "outputs": [
    {
     "data": {
      "image/png": "[encoded data removed]",
      "text/plain": [
       "<Figure size 432x432 with 49 Axes>"
      ]
     },
     "metadata": {
      "needs_background": "light"
     },
     "output_type": "display_data"
    }
   ],
   "source": [
    "from pandas.plotting import scatter_matrix\n",
    "scatter_matrix(tit_train, alpha=0.2, figsize=(6, 6), diagonal=\"kde\");"
   ]
  },
  {
   "cell_type": "code",
   "execution_count": 43,
   "metadata": {},
   "outputs": [
    {
     "data": {
      "text/html": [
       "<style  type=\"text/css\" >\n",
       "    #T_870dc3de_a7bf_11ec_86aa_acbc32d56c33row0_col0 {\n",
       "            background-color:  #b40426;\n",
       "        }    #T_870dc3de_a7bf_11ec_86aa_acbc32d56c33row0_col1 {\n",
       "            background-color:  #6485ec;\n",
       "        }    #T_870dc3de_a7bf_11ec_86aa_acbc32d56c33row0_col2 {\n",
       "            background-color:  #80a3fa;\n",
       "        }    #T_870dc3de_a7bf_11ec_86aa_acbc32d56c33row0_col3 {\n",
       "            background-color:  #7ea1fa;\n",
       "        }    #T_870dc3de_a7bf_11ec_86aa_acbc32d56c33row0_col4 {\n",
       "            background-color:  #85a8fc;\n",
       "        }    #T_870dc3de_a7bf_11ec_86aa_acbc32d56c33row0_col5 {\n",
       "            background-color:  #e2dad5;\n",
       "        }    #T_870dc3de_a7bf_11ec_86aa_acbc32d56c33row1_col0 {\n",
       "            background-color:  #3b4cc0;\n",
       "        }    #T_870dc3de_a7bf_11ec_86aa_acbc32d56c33row1_col1 {\n",
       "            background-color:  #b40426;\n",
       "        }    #T_870dc3de_a7bf_11ec_86aa_acbc32d56c33row1_col2 {\n",
       "            background-color:  #3b4cc0;\n",
       "        }    #T_870dc3de_a7bf_11ec_86aa_acbc32d56c33row1_col3 {\n",
       "            background-color:  #9ebeff;\n",
       "        }    #T_870dc3de_a7bf_11ec_86aa_acbc32d56c33row1_col4 {\n",
       "            background-color:  #7295f4;\n",
       "        }    #T_870dc3de_a7bf_11ec_86aa_acbc32d56c33row1_col5 {\n",
       "            background-color:  #3b4cc0;\n",
       "        }    #T_870dc3de_a7bf_11ec_86aa_acbc32d56c33row2_col0 {\n",
       "            background-color:  #799cf8;\n",
       "        }    #T_870dc3de_a7bf_11ec_86aa_acbc32d56c33row2_col1 {\n",
       "            background-color:  #5e7de7;\n",
       "        }    #T_870dc3de_a7bf_11ec_86aa_acbc32d56c33row2_col2 {\n",
       "            background-color:  #b40426;\n",
       "        }    #T_870dc3de_a7bf_11ec_86aa_acbc32d56c33row2_col3 {\n",
       "            background-color:  #3b4cc0;\n",
       "        }    #T_870dc3de_a7bf_11ec_86aa_acbc32d56c33row2_col4 {\n",
       "            background-color:  #3b4cc0;\n",
       "        }    #T_870dc3de_a7bf_11ec_86aa_acbc32d56c33row2_col5 {\n",
       "            background-color:  #c5d6f2;\n",
       "        }    #T_870dc3de_a7bf_11ec_86aa_acbc32d56c33row3_col0 {\n",
       "            background-color:  #84a7fc;\n",
       "        }    #T_870dc3de_a7bf_11ec_86aa_acbc32d56c33row3_col1 {\n",
       "            background-color:  #c3d5f4;\n",
       "        }    #T_870dc3de_a7bf_11ec_86aa_acbc32d56c33row3_col2 {\n",
       "            background-color:  #485fd1;\n",
       "        }    #T_870dc3de_a7bf_11ec_86aa_acbc32d56c33row3_col3 {\n",
       "            background-color:  #b40426;\n",
       "        }    #T_870dc3de_a7bf_11ec_86aa_acbc32d56c33row3_col4 {\n",
       "            background-color:  #dfdbd9;\n",
       "        }    #T_870dc3de_a7bf_11ec_86aa_acbc32d56c33row3_col5 {\n",
       "            background-color:  #d2dbe8;\n",
       "        }    #T_870dc3de_a7bf_11ec_86aa_acbc32d56c33row4_col0 {\n",
       "            background-color:  #a3c2fe;\n",
       "        }    #T_870dc3de_a7bf_11ec_86aa_acbc32d56c33row4_col1 {\n",
       "            background-color:  #b5cdfa;\n",
       "        }    #T_870dc3de_a7bf_11ec_86aa_acbc32d56c33row4_col2 {\n",
       "            background-color:  #6384eb;\n",
       "        }    #T_870dc3de_a7bf_11ec_86aa_acbc32d56c33row4_col3 {\n",
       "            background-color:  #ead5c9;\n",
       "        }    #T_870dc3de_a7bf_11ec_86aa_acbc32d56c33row4_col4 {\n",
       "            background-color:  #b40426;\n",
       "        }    #T_870dc3de_a7bf_11ec_86aa_acbc32d56c33row4_col5 {\n",
       "            background-color:  #dbdcde;\n",
       "        }    #T_870dc3de_a7bf_11ec_86aa_acbc32d56c33row5_col0 {\n",
       "            background-color:  #cdd9ec;\n",
       "        }    #T_870dc3de_a7bf_11ec_86aa_acbc32d56c33row5_col1 {\n",
       "            background-color:  #3b4cc0;\n",
       "        }    #T_870dc3de_a7bf_11ec_86aa_acbc32d56c33row5_col2 {\n",
       "            background-color:  #abc8fd;\n",
       "        }    #T_870dc3de_a7bf_11ec_86aa_acbc32d56c33row5_col3 {\n",
       "            background-color:  #b2ccfb;\n",
       "        }    #T_870dc3de_a7bf_11ec_86aa_acbc32d56c33row5_col4 {\n",
       "            background-color:  #adc9fd;\n",
       "        }    #T_870dc3de_a7bf_11ec_86aa_acbc32d56c33row5_col5 {\n",
       "            background-color:  #b40426;\n",
       "        }</style>  \n",
       "<table id=\"T_870dc3de_a7bf_11ec_86aa_acbc32d56c33\" > \n",
       "<thead>    <tr> \n",
       "        <th class=\"blank level0\" ></th> \n",
       "        <th class=\"col_heading level0 col0\" >Survived</th> \n",
       "        <th class=\"col_heading level0 col1\" >Pclass</th> \n",
       "        <th class=\"col_heading level0 col2\" >Age</th> \n",
       "        <th class=\"col_heading level0 col3\" >SibSp</th> \n",
       "        <th class=\"col_heading level0 col4\" >Parch</th> \n",
       "        <th class=\"col_heading level0 col5\" >Fare</th> \n",
       "    </tr></thead> \n",
       "<tbody>    <tr> \n",
       "        <th id=\"T_870dc3de_a7bf_11ec_86aa_acbc32d56c33level0_row0\" class=\"row_heading level0 row0\" >Survived</th> \n",
       "        <td id=\"T_870dc3de_a7bf_11ec_86aa_acbc32d56c33row0_col0\" class=\"data row0 col0\" >1</td> \n",
       "        <td id=\"T_870dc3de_a7bf_11ec_86aa_acbc32d56c33row0_col1\" class=\"data row0 col1\" >-0.34</td> \n",
       "        <td id=\"T_870dc3de_a7bf_11ec_86aa_acbc32d56c33row0_col2\" class=\"data row0 col2\" >-0.077</td> \n",
       "        <td id=\"T_870dc3de_a7bf_11ec_86aa_acbc32d56c33row0_col3\" class=\"data row0 col3\" >-0.035</td> \n",
       "        <td id=\"T_870dc3de_a7bf_11ec_86aa_acbc32d56c33row0_col4\" class=\"data row0 col4\" >0.082</td> \n",
       "        <td id=\"T_870dc3de_a7bf_11ec_86aa_acbc32d56c33row0_col5\" class=\"data row0 col5\" >0.26</td> \n",
       "    </tr>    <tr> \n",
       "        <th id=\"T_870dc3de_a7bf_11ec_86aa_acbc32d56c33level0_row1\" class=\"row_heading level0 row1\" >Pclass</th> \n",
       "        <td id=\"T_870dc3de_a7bf_11ec_86aa_acbc32d56c33row1_col0\" class=\"data row1 col0\" >-0.34</td> \n",
       "        <td id=\"T_870dc3de_a7bf_11ec_86aa_acbc32d56c33row1_col1\" class=\"data row1 col1\" >1</td> \n",
       "        <td id=\"T_870dc3de_a7bf_11ec_86aa_acbc32d56c33row1_col2\" class=\"data row1 col2\" >-0.37</td> \n",
       "        <td id=\"T_870dc3de_a7bf_11ec_86aa_acbc32d56c33row1_col3\" class=\"data row1 col3\" >0.083</td> \n",
       "        <td id=\"T_870dc3de_a7bf_11ec_86aa_acbc32d56c33row1_col4\" class=\"data row1 col4\" >0.018</td> \n",
       "        <td id=\"T_870dc3de_a7bf_11ec_86aa_acbc32d56c33row1_col5\" class=\"data row1 col5\" >-0.55</td> \n",
       "    </tr>    <tr> \n",
       "        <th id=\"T_870dc3de_a7bf_11ec_86aa_acbc32d56c33level0_row2\" class=\"row_heading level0 row2\" >Age</th> \n",
       "        <td id=\"T_870dc3de_a7bf_11ec_86aa_acbc32d56c33row2_col0\" class=\"data row2 col0\" >-0.077</td> \n",
       "        <td id=\"T_870dc3de_a7bf_11ec_86aa_acbc32d56c33row2_col1\" class=\"data row2 col1\" >-0.37</td> \n",
       "        <td id=\"T_870dc3de_a7bf_11ec_86aa_acbc32d56c33row2_col2\" class=\"data row2 col2\" >1</td> \n",
       "        <td id=\"T_870dc3de_a7bf_11ec_86aa_acbc32d56c33row2_col3\" class=\"data row2 col3\" >-0.31</td> \n",
       "        <td id=\"T_870dc3de_a7bf_11ec_86aa_acbc32d56c33row2_col4\" class=\"data row2 col4\" >-0.19</td> \n",
       "        <td id=\"T_870dc3de_a7bf_11ec_86aa_acbc32d56c33row2_col5\" class=\"data row2 col5\" >0.096</td> \n",
       "    </tr>    <tr> \n",
       "        <th id=\"T_870dc3de_a7bf_11ec_86aa_acbc32d56c33level0_row3\" class=\"row_heading level0 row3\" >SibSp</th> \n",
       "        <td id=\"T_870dc3de_a7bf_11ec_86aa_acbc32d56c33row3_col0\" class=\"data row3 col0\" >-0.035</td> \n",
       "        <td id=\"T_870dc3de_a7bf_11ec_86aa_acbc32d56c33row3_col1\" class=\"data row3 col1\" >0.083</td> \n",
       "        <td id=\"T_870dc3de_a7bf_11ec_86aa_acbc32d56c33row3_col2\" class=\"data row3 col2\" >-0.31</td> \n",
       "        <td id=\"T_870dc3de_a7bf_11ec_86aa_acbc32d56c33row3_col3\" class=\"data row3 col3\" >1</td> \n",
       "        <td id=\"T_870dc3de_a7bf_11ec_86aa_acbc32d56c33row3_col4\" class=\"data row3 col4\" >0.41</td> \n",
       "        <td id=\"T_870dc3de_a7bf_11ec_86aa_acbc32d56c33row3_col5\" class=\"data row3 col5\" >0.16</td> \n",
       "    </tr>    <tr> \n",
       "        <th id=\"T_870dc3de_a7bf_11ec_86aa_acbc32d56c33level0_row4\" class=\"row_heading level0 row4\" >Parch</th> \n",
       "        <td id=\"T_870dc3de_a7bf_11ec_86aa_acbc32d56c33row4_col0\" class=\"data row4 col0\" >0.082</td> \n",
       "        <td id=\"T_870dc3de_a7bf_11ec_86aa_acbc32d56c33row4_col1\" class=\"data row4 col1\" >0.018</td> \n",
       "        <td id=\"T_870dc3de_a7bf_11ec_86aa_acbc32d56c33row4_col2\" class=\"data row4 col2\" >-0.19</td> \n",
       "        <td id=\"T_870dc3de_a7bf_11ec_86aa_acbc32d56c33row4_col3\" class=\"data row4 col3\" >0.41</td> \n",
       "        <td id=\"T_870dc3de_a7bf_11ec_86aa_acbc32d56c33row4_col4\" class=\"data row4 col4\" >1</td> \n",
       "        <td id=\"T_870dc3de_a7bf_11ec_86aa_acbc32d56c33row4_col5\" class=\"data row4 col5\" >0.22</td> \n",
       "    </tr>    <tr> \n",
       "        <th id=\"T_870dc3de_a7bf_11ec_86aa_acbc32d56c33level0_row5\" class=\"row_heading level0 row5\" >Fare</th> \n",
       "        <td id=\"T_870dc3de_a7bf_11ec_86aa_acbc32d56c33row5_col0\" class=\"data row5 col0\" >0.26</td> \n",
       "        <td id=\"T_870dc3de_a7bf_11ec_86aa_acbc32d56c33row5_col1\" class=\"data row5 col1\" >-0.55</td> \n",
       "        <td id=\"T_870dc3de_a7bf_11ec_86aa_acbc32d56c33row5_col2\" class=\"data row5 col2\" >0.096</td> \n",
       "        <td id=\"T_870dc3de_a7bf_11ec_86aa_acbc32d56c33row5_col3\" class=\"data row5 col3\" >0.16</td> \n",
       "        <td id=\"T_870dc3de_a7bf_11ec_86aa_acbc32d56c33row5_col4\" class=\"data row5 col4\" >0.22</td> \n",
       "        <td id=\"T_870dc3de_a7bf_11ec_86aa_acbc32d56c33row5_col5\" class=\"data row5 col5\" >1</td> \n",
       "    </tr></tbody> \n",
       "</table> "
      ],
      "text/plain": [
       "<pandas.io.formats.style.Styler at 0x7f7dd721f438>"
      ]
     },
     "execution_count": 43,
     "metadata": {},
     "output_type": "execute_result"
    }
   ],
   "source": [
    "c = tit_train.iloc[:, 1:].corr()\n",
    "c.style.background_gradient(cmap='coolwarm').set_precision(2)"
   ]
  },
  {
   "cell_type": "code",
   "execution_count": null,
   "metadata": {},
   "outputs": [],
   "source": []
  }
 ],
 "metadata": {
  "kernelspec": {
   "display_name": "Python 3",
   "language": "python",
   "name": "python3"
  },
  "language_info": {
   "codemirror_mode": {
    "name": "ipython",
    "version": 3
   },
   "file_extension": ".py",
   "mimetype": "text/x-python",
   "name": "python",
   "nbconvert_exporter": "python",
   "pygments_lexer": "ipython3",
   "version": "3.6.8"
  }
 },
 "nbformat": 4,
 "nbformat_minor": 2
}
